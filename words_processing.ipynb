{
 "cells": [
  {
   "cell_type": "code",
   "execution_count": 4,
   "id": "ee258068-e3cf-4392-b234-f5d45ad31218",
   "metadata": {},
   "outputs": [],
   "source": [
    "import numpy as np\n",
    "import pandas as pd\n",
    "import matplotlib.pyplot as plt\n",
    "import json\n",
    "import re"
   ]
  },
  {
   "cell_type": "code",
   "execution_count": 5,
   "id": "b4890d07-718e-410e-bc6e-02c8ede78e52",
   "metadata": {},
   "outputs": [],
   "source": [
    "def is_all_letters(word):\n",
    "    return bool(re.match(\"^[a-zA-Z]+$\", word))"
   ]
  },
  {
   "cell_type": "code",
   "execution_count": 60,
   "id": "1f8d836d-025e-4719-8ae7-51a65a170e33",
   "metadata": {},
   "outputs": [],
   "source": [
    "with open('./github/english-words.70', 'r', encoding='latin1') as file:\n",
    "    words = file.readlines()"
   ]
  },
  {
   "cell_type": "code",
   "execution_count": 61,
   "id": "44bbbdaa-051e-41f0-8268-8dbb02414729",
   "metadata": {},
   "outputs": [
    {
     "data": {
      "text/plain": [
       "['aalii\\n',\n",
       " 'aardwolf\\n',\n",
       " 'aardwolves\\n',\n",
       " 'aba\\n',\n",
       " 'abaca\\n',\n",
       " 'abacas\\n',\n",
       " 'abacist\\n',\n",
       " 'abampere\\n',\n",
       " 'abamperes\\n',\n",
       " 'abamps\\n']"
      ]
     },
     "execution_count": 61,
     "metadata": {},
     "output_type": "execute_result"
    }
   ],
   "source": [
    "words[:10]"
   ]
  },
  {
   "cell_type": "code",
   "execution_count": 62,
   "id": "da11f799-62ba-44cd-9fa7-de15c4df53ea",
   "metadata": {},
   "outputs": [
    {
     "data": {
      "text/plain": [
       "33270"
      ]
     },
     "execution_count": 62,
     "metadata": {},
     "output_type": "execute_result"
    }
   ],
   "source": [
    "len(words)"
   ]
  },
  {
   "cell_type": "code",
   "execution_count": 63,
   "id": "4c57985e-10d1-4156-9d71-b066ce0d0925",
   "metadata": {},
   "outputs": [
    {
     "data": {
      "text/plain": [
       "'étuis'"
      ]
     },
     "execution_count": 63,
     "metadata": {},
     "output_type": "execute_result"
    }
   ],
   "source": [
    "words[-1][:-1]"
   ]
  },
  {
   "cell_type": "code",
   "execution_count": 64,
   "id": "eec24001-ce1d-4d12-b0eb-d8f6b18d65c0",
   "metadata": {},
   "outputs": [
    {
     "data": {
      "text/plain": [
       "True"
      ]
     },
     "execution_count": 64,
     "metadata": {},
     "output_type": "execute_result"
    }
   ],
   "source": [
    "is_all_letters(words[0][:-1])"
   ]
  },
  {
   "cell_type": "code",
   "execution_count": 65,
   "id": "13247b5e-bc7a-48af-8747-c698496779b7",
   "metadata": {},
   "outputs": [],
   "source": [
    "words = np.array([word[:-1]for word in words if is_all_letters(word[:-1])])"
   ]
  },
  {
   "cell_type": "code",
   "execution_count": 66,
   "id": "84caddaa-5960-4562-bd8c-8cefcb67f4e6",
   "metadata": {},
   "outputs": [
    {
     "data": {
      "text/plain": [
       "33190"
      ]
     },
     "execution_count": 66,
     "metadata": {},
     "output_type": "execute_result"
    }
   ],
   "source": [
    "len(words)"
   ]
  },
  {
   "cell_type": "code",
   "execution_count": 67,
   "id": "8cb6350b-2062-46e9-be1f-d481dd1ba58d",
   "metadata": {},
   "outputs": [],
   "source": [
    "def contains_uppercase(word):\n",
    "    return bool(re.search(r'[A-Z]', word))"
   ]
  },
  {
   "cell_type": "code",
   "execution_count": 68,
   "id": "aa395304-f697-4dbd-bc05-1feaa40de93b",
   "metadata": {},
   "outputs": [
    {
     "data": {
      "text/plain": [
       "[]"
      ]
     },
     "execution_count": 68,
     "metadata": {},
     "output_type": "execute_result"
    }
   ],
   "source": [
    "[word for word in words if contains_uppercase(word)]"
   ]
  },
  {
   "cell_type": "code",
   "execution_count": 69,
   "id": "2b4a8383-7b47-4fd3-8c96-fa6345dea0aa",
   "metadata": {},
   "outputs": [],
   "source": [
    "length = np.array([len(word) for word in words])"
   ]
  },
  {
   "cell_type": "code",
   "execution_count": 70,
   "id": "77d06e7d-5b68-4fcb-8578-ee0339e06f65",
   "metadata": {},
   "outputs": [],
   "source": [
    "mask = (length >= 4) & (length <= 20)"
   ]
  },
  {
   "cell_type": "code",
   "execution_count": 71,
   "id": "8ad855b4-a3fb-4fef-8564-b1212f44ff49",
   "metadata": {},
   "outputs": [],
   "source": [
    "valid_words = words[mask]"
   ]
  },
  {
   "cell_type": "code",
   "execution_count": 72,
   "id": "0a363afc-d695-4abf-be71-f5d9fd30c7af",
   "metadata": {},
   "outputs": [
    {
     "data": {
      "text/plain": [
       "33020"
      ]
     },
     "execution_count": 72,
     "metadata": {},
     "output_type": "execute_result"
    }
   ],
   "source": [
    "len(valid_words)"
   ]
  },
  {
   "cell_type": "code",
   "execution_count": 73,
   "id": "2e1a352b-7051-4280-9354-a3b21ac15737",
   "metadata": {},
   "outputs": [
    {
     "data": {
      "text/plain": [
       "array(['aalii', 'aardwolf', 'aardwolves', 'abaca', 'abacas', 'abacist',\n",
       "       'abampere', 'abamperes', 'abamps', 'abandonedly', 'abas', 'abatis',\n",
       "       'abatises', 'abaxial', 'abba', 'abbacies', 'abbacy', 'abbatial',\n",
       "       'abbreviator', 'abcoulomb', 'abcoulombs', 'abdicator',\n",
       "       'abdicators', 'abdominally', 'abdominous', 'abduce', 'abduced',\n",
       "       'abducent', 'abduces', 'abducing', 'abecedarian', 'abecedarians',\n",
       "       'abecedarium', 'abecedary', 'abele', 'abeles', 'abelmosk',\n",
       "       'abelmosks', 'aberrance', 'aberrances', 'aberrancies', 'aberrancy',\n",
       "       'aberrantly', 'abessive', 'abetment', 'abetments', 'abeyant',\n",
       "       'abfarad', 'abfarads', 'abhenries'], dtype='<U45')"
      ]
     },
     "execution_count": 73,
     "metadata": {},
     "output_type": "execute_result"
    }
   ],
   "source": [
    "valid_words[:50]"
   ]
  },
  {
   "cell_type": "code",
   "execution_count": 74,
   "id": "ae193af1-97f3-4473-88fb-dada8e2b2123",
   "metadata": {},
   "outputs": [],
   "source": [
    "np.random.shuffle(valid_words)"
   ]
  },
  {
   "cell_type": "code",
   "execution_count": 75,
   "id": "e1de2894-ba94-4d92-9e20-516a101b0ff0",
   "metadata": {},
   "outputs": [
    {
     "data": {
      "text/plain": [
       "array(['hyperphysical', 'banc', 'secessionism', 'yellowlegs', 'regelate',\n",
       "       'twinflowers', 'zinkenites', 'prolongate', 'nostocs', 'tiliaceous',\n",
       "       'bequeathal', 'verecund', 'allodial', 'mutualistic', 'overtrumped',\n",
       "       'compromiser', 'carminatives', 'bourne', 'cosmologic', 'hydroids',\n",
       "       'tychism', 'flivver', 'aspers', 'hemolyses', 'teaberries',\n",
       "       'euglena', 'blenny', 'jarl', 'herpetic', 'copartnership',\n",
       "       'amoralism', 'argil', 'greyback', 'insolations', 'flocky',\n",
       "       'disheartenments', 'homophonies', 'absolutization', 'selenology',\n",
       "       'columella', 'paramorphism', 'concubinary', 'mainbrace',\n",
       "       'cheliform', 'collotype', 'spicer', 'footpace', 'irenicism',\n",
       "       'counterproposals', 'salpingectomies'], dtype='<U45')"
      ]
     },
     "execution_count": 75,
     "metadata": {},
     "output_type": "execute_result"
    }
   ],
   "source": [
    "valid_words[:50]"
   ]
  },
  {
   "cell_type": "code",
   "execution_count": 76,
   "id": "02f86284-77e8-4400-a947-b0397ee74bf2",
   "metadata": {},
   "outputs": [],
   "source": [
    "known_words = valid_words[:int(len(valid_words) * 0.9)]\n",
    "validation_words = valid_words[int(len(valid_words) * 0.9):]"
   ]
  },
  {
   "cell_type": "code",
   "execution_count": 77,
   "id": "939f3f74-2f5a-47d1-82f2-e9dd6f524889",
   "metadata": {},
   "outputs": [
    {
     "data": {
      "text/plain": [
       "array(['actinism', 'acuminated', 'overinfluential', ..., 'japery',\n",
       "       'brecciated', 'pretreated'], dtype='<U45')"
      ]
     },
     "execution_count": 77,
     "metadata": {},
     "output_type": "execute_result"
    }
   ],
   "source": [
    "validation_words"
   ]
  },
  {
   "cell_type": "markdown",
   "id": "a8f51246-02ec-4823-b7a9-2133be6b4c2d",
   "metadata": {},
   "source": [
    "Check whether the groups of known words and words for validation have similar statistical properties"
   ]
  },
  {
   "cell_type": "code",
   "execution_count": 78,
   "id": "9a3404b2-cdcf-40ac-b5fb-b92dd21fd522",
   "metadata": {},
   "outputs": [],
   "source": [
    "properties_known_words = []\n",
    "for word in known_words:\n",
    "    properties = []\n",
    "    properties.append(word)\n",
    "    properties.append(len(word))\n",
    "    properties.append(word[0])\n",
    "    properties.append(word[-1])\n",
    "    letter_counts = [0] * 26\n",
    "    for l in word:\n",
    "        letter_counts[ord(l) - ord('a')] += 1\n",
    "    properties.extend(letter_counts)\n",
    "\n",
    "    properties_known_words.append(properties)"
   ]
  },
  {
   "cell_type": "code",
   "execution_count": 79,
   "id": "49f4817e-f331-4d4e-999c-7ae3a3c9ae03",
   "metadata": {},
   "outputs": [],
   "source": [
    "properties_validation_words = []\n",
    "for word in validation_words:\n",
    "    properties = []\n",
    "    properties.append(word)\n",
    "    properties.append(len(word))\n",
    "    properties.append(word[0])\n",
    "    properties.append(word[-1])\n",
    "    letter_counts = [0] * 26\n",
    "    for l in word:\n",
    "        letter_counts[ord(l) - ord('a')] += 1\n",
    "    properties.extend(letter_counts)\n",
    "\n",
    "    properties_validation_words.append(properties)"
   ]
  },
  {
   "cell_type": "code",
   "execution_count": 80,
   "id": "a3299fda-9567-4414-95db-0f024682f5a0",
   "metadata": {},
   "outputs": [],
   "source": [
    "column_names = ['word', 'length', 'first_letter', 'last_letter'] + [chr(i) for i in range(ord('a'), ord('z') + 1)]"
   ]
  },
  {
   "cell_type": "code",
   "execution_count": 81,
   "id": "81810c26-0f07-4364-8cdf-9a3f73417d7f",
   "metadata": {},
   "outputs": [],
   "source": [
    "properties_known_words = pd.DataFrame(properties_known_words, columns=column_names)"
   ]
  },
  {
   "cell_type": "code",
   "execution_count": 82,
   "id": "c6f33a14-cf1b-4907-ad50-f7bb9e479c8d",
   "metadata": {},
   "outputs": [
    {
     "data": {
      "text/html": [
       "<div>\n",
       "<style scoped>\n",
       "    .dataframe tbody tr th:only-of-type {\n",
       "        vertical-align: middle;\n",
       "    }\n",
       "\n",
       "    .dataframe tbody tr th {\n",
       "        vertical-align: top;\n",
       "    }\n",
       "\n",
       "    .dataframe thead th {\n",
       "        text-align: right;\n",
       "    }\n",
       "</style>\n",
       "<table border=\"1\" class=\"dataframe\">\n",
       "  <thead>\n",
       "    <tr style=\"text-align: right;\">\n",
       "      <th></th>\n",
       "      <th>word</th>\n",
       "      <th>length</th>\n",
       "      <th>first_letter</th>\n",
       "      <th>last_letter</th>\n",
       "      <th>a</th>\n",
       "      <th>b</th>\n",
       "      <th>c</th>\n",
       "      <th>d</th>\n",
       "      <th>e</th>\n",
       "      <th>f</th>\n",
       "      <th>...</th>\n",
       "      <th>q</th>\n",
       "      <th>r</th>\n",
       "      <th>s</th>\n",
       "      <th>t</th>\n",
       "      <th>u</th>\n",
       "      <th>v</th>\n",
       "      <th>w</th>\n",
       "      <th>x</th>\n",
       "      <th>y</th>\n",
       "      <th>z</th>\n",
       "    </tr>\n",
       "  </thead>\n",
       "  <tbody>\n",
       "    <tr>\n",
       "      <th>0</th>\n",
       "      <td>hyperphysical</td>\n",
       "      <td>13</td>\n",
       "      <td>h</td>\n",
       "      <td>l</td>\n",
       "      <td>1</td>\n",
       "      <td>0</td>\n",
       "      <td>1</td>\n",
       "      <td>0</td>\n",
       "      <td>1</td>\n",
       "      <td>0</td>\n",
       "      <td>...</td>\n",
       "      <td>0</td>\n",
       "      <td>1</td>\n",
       "      <td>1</td>\n",
       "      <td>0</td>\n",
       "      <td>0</td>\n",
       "      <td>0</td>\n",
       "      <td>0</td>\n",
       "      <td>0</td>\n",
       "      <td>2</td>\n",
       "      <td>0</td>\n",
       "    </tr>\n",
       "    <tr>\n",
       "      <th>1</th>\n",
       "      <td>banc</td>\n",
       "      <td>4</td>\n",
       "      <td>b</td>\n",
       "      <td>c</td>\n",
       "      <td>1</td>\n",
       "      <td>1</td>\n",
       "      <td>1</td>\n",
       "      <td>0</td>\n",
       "      <td>0</td>\n",
       "      <td>0</td>\n",
       "      <td>...</td>\n",
       "      <td>0</td>\n",
       "      <td>0</td>\n",
       "      <td>0</td>\n",
       "      <td>0</td>\n",
       "      <td>0</td>\n",
       "      <td>0</td>\n",
       "      <td>0</td>\n",
       "      <td>0</td>\n",
       "      <td>0</td>\n",
       "      <td>0</td>\n",
       "    </tr>\n",
       "    <tr>\n",
       "      <th>2</th>\n",
       "      <td>secessionism</td>\n",
       "      <td>12</td>\n",
       "      <td>s</td>\n",
       "      <td>m</td>\n",
       "      <td>0</td>\n",
       "      <td>0</td>\n",
       "      <td>1</td>\n",
       "      <td>0</td>\n",
       "      <td>2</td>\n",
       "      <td>0</td>\n",
       "      <td>...</td>\n",
       "      <td>0</td>\n",
       "      <td>0</td>\n",
       "      <td>4</td>\n",
       "      <td>0</td>\n",
       "      <td>0</td>\n",
       "      <td>0</td>\n",
       "      <td>0</td>\n",
       "      <td>0</td>\n",
       "      <td>0</td>\n",
       "      <td>0</td>\n",
       "    </tr>\n",
       "    <tr>\n",
       "      <th>3</th>\n",
       "      <td>yellowlegs</td>\n",
       "      <td>10</td>\n",
       "      <td>y</td>\n",
       "      <td>s</td>\n",
       "      <td>0</td>\n",
       "      <td>0</td>\n",
       "      <td>0</td>\n",
       "      <td>0</td>\n",
       "      <td>2</td>\n",
       "      <td>0</td>\n",
       "      <td>...</td>\n",
       "      <td>0</td>\n",
       "      <td>0</td>\n",
       "      <td>1</td>\n",
       "      <td>0</td>\n",
       "      <td>0</td>\n",
       "      <td>0</td>\n",
       "      <td>1</td>\n",
       "      <td>0</td>\n",
       "      <td>1</td>\n",
       "      <td>0</td>\n",
       "    </tr>\n",
       "    <tr>\n",
       "      <th>4</th>\n",
       "      <td>regelate</td>\n",
       "      <td>8</td>\n",
       "      <td>r</td>\n",
       "      <td>e</td>\n",
       "      <td>1</td>\n",
       "      <td>0</td>\n",
       "      <td>0</td>\n",
       "      <td>0</td>\n",
       "      <td>3</td>\n",
       "      <td>0</td>\n",
       "      <td>...</td>\n",
       "      <td>0</td>\n",
       "      <td>1</td>\n",
       "      <td>0</td>\n",
       "      <td>1</td>\n",
       "      <td>0</td>\n",
       "      <td>0</td>\n",
       "      <td>0</td>\n",
       "      <td>0</td>\n",
       "      <td>0</td>\n",
       "      <td>0</td>\n",
       "    </tr>\n",
       "    <tr>\n",
       "      <th>...</th>\n",
       "      <td>...</td>\n",
       "      <td>...</td>\n",
       "      <td>...</td>\n",
       "      <td>...</td>\n",
       "      <td>...</td>\n",
       "      <td>...</td>\n",
       "      <td>...</td>\n",
       "      <td>...</td>\n",
       "      <td>...</td>\n",
       "      <td>...</td>\n",
       "      <td>...</td>\n",
       "      <td>...</td>\n",
       "      <td>...</td>\n",
       "      <td>...</td>\n",
       "      <td>...</td>\n",
       "      <td>...</td>\n",
       "      <td>...</td>\n",
       "      <td>...</td>\n",
       "      <td>...</td>\n",
       "      <td>...</td>\n",
       "      <td>...</td>\n",
       "    </tr>\n",
       "    <tr>\n",
       "      <th>29713</th>\n",
       "      <td>graduand</td>\n",
       "      <td>8</td>\n",
       "      <td>g</td>\n",
       "      <td>d</td>\n",
       "      <td>2</td>\n",
       "      <td>0</td>\n",
       "      <td>0</td>\n",
       "      <td>2</td>\n",
       "      <td>0</td>\n",
       "      <td>0</td>\n",
       "      <td>...</td>\n",
       "      <td>0</td>\n",
       "      <td>1</td>\n",
       "      <td>0</td>\n",
       "      <td>0</td>\n",
       "      <td>1</td>\n",
       "      <td>0</td>\n",
       "      <td>0</td>\n",
       "      <td>0</td>\n",
       "      <td>0</td>\n",
       "      <td>0</td>\n",
       "    </tr>\n",
       "    <tr>\n",
       "      <th>29714</th>\n",
       "      <td>congruousnesses</td>\n",
       "      <td>15</td>\n",
       "      <td>c</td>\n",
       "      <td>s</td>\n",
       "      <td>0</td>\n",
       "      <td>0</td>\n",
       "      <td>1</td>\n",
       "      <td>0</td>\n",
       "      <td>2</td>\n",
       "      <td>0</td>\n",
       "      <td>...</td>\n",
       "      <td>0</td>\n",
       "      <td>1</td>\n",
       "      <td>4</td>\n",
       "      <td>0</td>\n",
       "      <td>2</td>\n",
       "      <td>0</td>\n",
       "      <td>0</td>\n",
       "      <td>0</td>\n",
       "      <td>0</td>\n",
       "      <td>0</td>\n",
       "    </tr>\n",
       "    <tr>\n",
       "      <th>29715</th>\n",
       "      <td>noncellular</td>\n",
       "      <td>11</td>\n",
       "      <td>n</td>\n",
       "      <td>r</td>\n",
       "      <td>1</td>\n",
       "      <td>0</td>\n",
       "      <td>1</td>\n",
       "      <td>0</td>\n",
       "      <td>1</td>\n",
       "      <td>0</td>\n",
       "      <td>...</td>\n",
       "      <td>0</td>\n",
       "      <td>1</td>\n",
       "      <td>0</td>\n",
       "      <td>0</td>\n",
       "      <td>1</td>\n",
       "      <td>0</td>\n",
       "      <td>0</td>\n",
       "      <td>0</td>\n",
       "      <td>0</td>\n",
       "      <td>0</td>\n",
       "    </tr>\n",
       "    <tr>\n",
       "      <th>29716</th>\n",
       "      <td>antireligious</td>\n",
       "      <td>13</td>\n",
       "      <td>a</td>\n",
       "      <td>s</td>\n",
       "      <td>1</td>\n",
       "      <td>0</td>\n",
       "      <td>0</td>\n",
       "      <td>0</td>\n",
       "      <td>1</td>\n",
       "      <td>0</td>\n",
       "      <td>...</td>\n",
       "      <td>0</td>\n",
       "      <td>1</td>\n",
       "      <td>1</td>\n",
       "      <td>1</td>\n",
       "      <td>1</td>\n",
       "      <td>0</td>\n",
       "      <td>0</td>\n",
       "      <td>0</td>\n",
       "      <td>0</td>\n",
       "      <td>0</td>\n",
       "    </tr>\n",
       "    <tr>\n",
       "      <th>29717</th>\n",
       "      <td>scolder</td>\n",
       "      <td>7</td>\n",
       "      <td>s</td>\n",
       "      <td>r</td>\n",
       "      <td>0</td>\n",
       "      <td>0</td>\n",
       "      <td>1</td>\n",
       "      <td>1</td>\n",
       "      <td>1</td>\n",
       "      <td>0</td>\n",
       "      <td>...</td>\n",
       "      <td>0</td>\n",
       "      <td>1</td>\n",
       "      <td>1</td>\n",
       "      <td>0</td>\n",
       "      <td>0</td>\n",
       "      <td>0</td>\n",
       "      <td>0</td>\n",
       "      <td>0</td>\n",
       "      <td>0</td>\n",
       "      <td>0</td>\n",
       "    </tr>\n",
       "  </tbody>\n",
       "</table>\n",
       "<p>29718 rows × 30 columns</p>\n",
       "</div>"
      ],
      "text/plain": [
       "                  word  length first_letter last_letter  a  b  c  d  e  f  \\\n",
       "0        hyperphysical      13            h           l  1  0  1  0  1  0   \n",
       "1                 banc       4            b           c  1  1  1  0  0  0   \n",
       "2         secessionism      12            s           m  0  0  1  0  2  0   \n",
       "3           yellowlegs      10            y           s  0  0  0  0  2  0   \n",
       "4             regelate       8            r           e  1  0  0  0  3  0   \n",
       "...                ...     ...          ...         ... .. .. .. .. .. ..   \n",
       "29713         graduand       8            g           d  2  0  0  2  0  0   \n",
       "29714  congruousnesses      15            c           s  0  0  1  0  2  0   \n",
       "29715      noncellular      11            n           r  1  0  1  0  1  0   \n",
       "29716    antireligious      13            a           s  1  0  0  0  1  0   \n",
       "29717          scolder       7            s           r  0  0  1  1  1  0   \n",
       "\n",
       "       ...  q  r  s  t  u  v  w  x  y  z  \n",
       "0      ...  0  1  1  0  0  0  0  0  2  0  \n",
       "1      ...  0  0  0  0  0  0  0  0  0  0  \n",
       "2      ...  0  0  4  0  0  0  0  0  0  0  \n",
       "3      ...  0  0  1  0  0  0  1  0  1  0  \n",
       "4      ...  0  1  0  1  0  0  0  0  0  0  \n",
       "...    ... .. .. .. .. .. .. .. .. .. ..  \n",
       "29713  ...  0  1  0  0  1  0  0  0  0  0  \n",
       "29714  ...  0  1  4  0  2  0  0  0  0  0  \n",
       "29715  ...  0  1  0  0  1  0  0  0  0  0  \n",
       "29716  ...  0  1  1  1  1  0  0  0  0  0  \n",
       "29717  ...  0  1  1  0  0  0  0  0  0  0  \n",
       "\n",
       "[29718 rows x 30 columns]"
      ]
     },
     "execution_count": 82,
     "metadata": {},
     "output_type": "execute_result"
    }
   ],
   "source": [
    "properties_known_words"
   ]
  },
  {
   "cell_type": "code",
   "execution_count": 100,
   "id": "3826cd75-f659-4989-adec-f8a99767324d",
   "metadata": {},
   "outputs": [],
   "source": [
    "# properties_known_words.to_csv('known_words.csv', index=False)"
   ]
  },
  {
   "cell_type": "code",
   "execution_count": 83,
   "id": "40de77d3-29e6-4c51-b265-c9b7f36e1852",
   "metadata": {},
   "outputs": [],
   "source": [
    "properties_validation_words = pd.DataFrame(properties_validation_words, columns=column_names)"
   ]
  },
  {
   "cell_type": "code",
   "execution_count": 84,
   "id": "0f35c551-38f0-4812-93b1-4faafe7d09bc",
   "metadata": {},
   "outputs": [
    {
     "data": {
      "text/html": [
       "<div>\n",
       "<style scoped>\n",
       "    .dataframe tbody tr th:only-of-type {\n",
       "        vertical-align: middle;\n",
       "    }\n",
       "\n",
       "    .dataframe tbody tr th {\n",
       "        vertical-align: top;\n",
       "    }\n",
       "\n",
       "    .dataframe thead th {\n",
       "        text-align: right;\n",
       "    }\n",
       "</style>\n",
       "<table border=\"1\" class=\"dataframe\">\n",
       "  <thead>\n",
       "    <tr style=\"text-align: right;\">\n",
       "      <th></th>\n",
       "      <th>word</th>\n",
       "      <th>length</th>\n",
       "      <th>first_letter</th>\n",
       "      <th>last_letter</th>\n",
       "      <th>a</th>\n",
       "      <th>b</th>\n",
       "      <th>c</th>\n",
       "      <th>d</th>\n",
       "      <th>e</th>\n",
       "      <th>f</th>\n",
       "      <th>...</th>\n",
       "      <th>q</th>\n",
       "      <th>r</th>\n",
       "      <th>s</th>\n",
       "      <th>t</th>\n",
       "      <th>u</th>\n",
       "      <th>v</th>\n",
       "      <th>w</th>\n",
       "      <th>x</th>\n",
       "      <th>y</th>\n",
       "      <th>z</th>\n",
       "    </tr>\n",
       "  </thead>\n",
       "  <tbody>\n",
       "    <tr>\n",
       "      <th>0</th>\n",
       "      <td>actinism</td>\n",
       "      <td>8</td>\n",
       "      <td>a</td>\n",
       "      <td>m</td>\n",
       "      <td>1</td>\n",
       "      <td>0</td>\n",
       "      <td>1</td>\n",
       "      <td>0</td>\n",
       "      <td>0</td>\n",
       "      <td>0</td>\n",
       "      <td>...</td>\n",
       "      <td>0</td>\n",
       "      <td>0</td>\n",
       "      <td>1</td>\n",
       "      <td>1</td>\n",
       "      <td>0</td>\n",
       "      <td>0</td>\n",
       "      <td>0</td>\n",
       "      <td>0</td>\n",
       "      <td>0</td>\n",
       "      <td>0</td>\n",
       "    </tr>\n",
       "    <tr>\n",
       "      <th>1</th>\n",
       "      <td>acuminated</td>\n",
       "      <td>10</td>\n",
       "      <td>a</td>\n",
       "      <td>d</td>\n",
       "      <td>2</td>\n",
       "      <td>0</td>\n",
       "      <td>1</td>\n",
       "      <td>1</td>\n",
       "      <td>1</td>\n",
       "      <td>0</td>\n",
       "      <td>...</td>\n",
       "      <td>0</td>\n",
       "      <td>0</td>\n",
       "      <td>0</td>\n",
       "      <td>1</td>\n",
       "      <td>1</td>\n",
       "      <td>0</td>\n",
       "      <td>0</td>\n",
       "      <td>0</td>\n",
       "      <td>0</td>\n",
       "      <td>0</td>\n",
       "    </tr>\n",
       "    <tr>\n",
       "      <th>2</th>\n",
       "      <td>overinfluential</td>\n",
       "      <td>15</td>\n",
       "      <td>o</td>\n",
       "      <td>l</td>\n",
       "      <td>1</td>\n",
       "      <td>0</td>\n",
       "      <td>0</td>\n",
       "      <td>0</td>\n",
       "      <td>2</td>\n",
       "      <td>1</td>\n",
       "      <td>...</td>\n",
       "      <td>0</td>\n",
       "      <td>1</td>\n",
       "      <td>0</td>\n",
       "      <td>1</td>\n",
       "      <td>1</td>\n",
       "      <td>1</td>\n",
       "      <td>0</td>\n",
       "      <td>0</td>\n",
       "      <td>0</td>\n",
       "      <td>0</td>\n",
       "    </tr>\n",
       "    <tr>\n",
       "      <th>3</th>\n",
       "      <td>wahoo</td>\n",
       "      <td>5</td>\n",
       "      <td>w</td>\n",
       "      <td>o</td>\n",
       "      <td>1</td>\n",
       "      <td>0</td>\n",
       "      <td>0</td>\n",
       "      <td>0</td>\n",
       "      <td>0</td>\n",
       "      <td>0</td>\n",
       "      <td>...</td>\n",
       "      <td>0</td>\n",
       "      <td>0</td>\n",
       "      <td>0</td>\n",
       "      <td>0</td>\n",
       "      <td>0</td>\n",
       "      <td>0</td>\n",
       "      <td>1</td>\n",
       "      <td>0</td>\n",
       "      <td>0</td>\n",
       "      <td>0</td>\n",
       "    </tr>\n",
       "    <tr>\n",
       "      <th>4</th>\n",
       "      <td>appositional</td>\n",
       "      <td>12</td>\n",
       "      <td>a</td>\n",
       "      <td>l</td>\n",
       "      <td>2</td>\n",
       "      <td>0</td>\n",
       "      <td>0</td>\n",
       "      <td>0</td>\n",
       "      <td>0</td>\n",
       "      <td>0</td>\n",
       "      <td>...</td>\n",
       "      <td>0</td>\n",
       "      <td>0</td>\n",
       "      <td>1</td>\n",
       "      <td>1</td>\n",
       "      <td>0</td>\n",
       "      <td>0</td>\n",
       "      <td>0</td>\n",
       "      <td>0</td>\n",
       "      <td>0</td>\n",
       "      <td>0</td>\n",
       "    </tr>\n",
       "    <tr>\n",
       "      <th>...</th>\n",
       "      <td>...</td>\n",
       "      <td>...</td>\n",
       "      <td>...</td>\n",
       "      <td>...</td>\n",
       "      <td>...</td>\n",
       "      <td>...</td>\n",
       "      <td>...</td>\n",
       "      <td>...</td>\n",
       "      <td>...</td>\n",
       "      <td>...</td>\n",
       "      <td>...</td>\n",
       "      <td>...</td>\n",
       "      <td>...</td>\n",
       "      <td>...</td>\n",
       "      <td>...</td>\n",
       "      <td>...</td>\n",
       "      <td>...</td>\n",
       "      <td>...</td>\n",
       "      <td>...</td>\n",
       "      <td>...</td>\n",
       "      <td>...</td>\n",
       "    </tr>\n",
       "    <tr>\n",
       "      <th>3297</th>\n",
       "      <td>hodden</td>\n",
       "      <td>6</td>\n",
       "      <td>h</td>\n",
       "      <td>n</td>\n",
       "      <td>0</td>\n",
       "      <td>0</td>\n",
       "      <td>0</td>\n",
       "      <td>2</td>\n",
       "      <td>1</td>\n",
       "      <td>0</td>\n",
       "      <td>...</td>\n",
       "      <td>0</td>\n",
       "      <td>0</td>\n",
       "      <td>0</td>\n",
       "      <td>0</td>\n",
       "      <td>0</td>\n",
       "      <td>0</td>\n",
       "      <td>0</td>\n",
       "      <td>0</td>\n",
       "      <td>0</td>\n",
       "      <td>0</td>\n",
       "    </tr>\n",
       "    <tr>\n",
       "      <th>3298</th>\n",
       "      <td>timepleaser</td>\n",
       "      <td>11</td>\n",
       "      <td>t</td>\n",
       "      <td>r</td>\n",
       "      <td>1</td>\n",
       "      <td>0</td>\n",
       "      <td>0</td>\n",
       "      <td>0</td>\n",
       "      <td>3</td>\n",
       "      <td>0</td>\n",
       "      <td>...</td>\n",
       "      <td>0</td>\n",
       "      <td>1</td>\n",
       "      <td>1</td>\n",
       "      <td>1</td>\n",
       "      <td>0</td>\n",
       "      <td>0</td>\n",
       "      <td>0</td>\n",
       "      <td>0</td>\n",
       "      <td>0</td>\n",
       "      <td>0</td>\n",
       "    </tr>\n",
       "    <tr>\n",
       "      <th>3299</th>\n",
       "      <td>japery</td>\n",
       "      <td>6</td>\n",
       "      <td>j</td>\n",
       "      <td>y</td>\n",
       "      <td>1</td>\n",
       "      <td>0</td>\n",
       "      <td>0</td>\n",
       "      <td>0</td>\n",
       "      <td>1</td>\n",
       "      <td>0</td>\n",
       "      <td>...</td>\n",
       "      <td>0</td>\n",
       "      <td>1</td>\n",
       "      <td>0</td>\n",
       "      <td>0</td>\n",
       "      <td>0</td>\n",
       "      <td>0</td>\n",
       "      <td>0</td>\n",
       "      <td>0</td>\n",
       "      <td>1</td>\n",
       "      <td>0</td>\n",
       "    </tr>\n",
       "    <tr>\n",
       "      <th>3300</th>\n",
       "      <td>brecciated</td>\n",
       "      <td>10</td>\n",
       "      <td>b</td>\n",
       "      <td>d</td>\n",
       "      <td>1</td>\n",
       "      <td>1</td>\n",
       "      <td>2</td>\n",
       "      <td>1</td>\n",
       "      <td>2</td>\n",
       "      <td>0</td>\n",
       "      <td>...</td>\n",
       "      <td>0</td>\n",
       "      <td>1</td>\n",
       "      <td>0</td>\n",
       "      <td>1</td>\n",
       "      <td>0</td>\n",
       "      <td>0</td>\n",
       "      <td>0</td>\n",
       "      <td>0</td>\n",
       "      <td>0</td>\n",
       "      <td>0</td>\n",
       "    </tr>\n",
       "    <tr>\n",
       "      <th>3301</th>\n",
       "      <td>pretreated</td>\n",
       "      <td>10</td>\n",
       "      <td>p</td>\n",
       "      <td>d</td>\n",
       "      <td>1</td>\n",
       "      <td>0</td>\n",
       "      <td>0</td>\n",
       "      <td>1</td>\n",
       "      <td>3</td>\n",
       "      <td>0</td>\n",
       "      <td>...</td>\n",
       "      <td>0</td>\n",
       "      <td>2</td>\n",
       "      <td>0</td>\n",
       "      <td>2</td>\n",
       "      <td>0</td>\n",
       "      <td>0</td>\n",
       "      <td>0</td>\n",
       "      <td>0</td>\n",
       "      <td>0</td>\n",
       "      <td>0</td>\n",
       "    </tr>\n",
       "  </tbody>\n",
       "</table>\n",
       "<p>3302 rows × 30 columns</p>\n",
       "</div>"
      ],
      "text/plain": [
       "                 word  length first_letter last_letter  a  b  c  d  e  f  ...  \\\n",
       "0            actinism       8            a           m  1  0  1  0  0  0  ...   \n",
       "1          acuminated      10            a           d  2  0  1  1  1  0  ...   \n",
       "2     overinfluential      15            o           l  1  0  0  0  2  1  ...   \n",
       "3               wahoo       5            w           o  1  0  0  0  0  0  ...   \n",
       "4        appositional      12            a           l  2  0  0  0  0  0  ...   \n",
       "...               ...     ...          ...         ... .. .. .. .. .. ..  ...   \n",
       "3297           hodden       6            h           n  0  0  0  2  1  0  ...   \n",
       "3298      timepleaser      11            t           r  1  0  0  0  3  0  ...   \n",
       "3299           japery       6            j           y  1  0  0  0  1  0  ...   \n",
       "3300       brecciated      10            b           d  1  1  2  1  2  0  ...   \n",
       "3301       pretreated      10            p           d  1  0  0  1  3  0  ...   \n",
       "\n",
       "      q  r  s  t  u  v  w  x  y  z  \n",
       "0     0  0  1  1  0  0  0  0  0  0  \n",
       "1     0  0  0  1  1  0  0  0  0  0  \n",
       "2     0  1  0  1  1  1  0  0  0  0  \n",
       "3     0  0  0  0  0  0  1  0  0  0  \n",
       "4     0  0  1  1  0  0  0  0  0  0  \n",
       "...  .. .. .. .. .. .. .. .. .. ..  \n",
       "3297  0  0  0  0  0  0  0  0  0  0  \n",
       "3298  0  1  1  1  0  0  0  0  0  0  \n",
       "3299  0  1  0  0  0  0  0  0  1  0  \n",
       "3300  0  1  0  1  0  0  0  0  0  0  \n",
       "3301  0  2  0  2  0  0  0  0  0  0  \n",
       "\n",
       "[3302 rows x 30 columns]"
      ]
     },
     "execution_count": 84,
     "metadata": {},
     "output_type": "execute_result"
    }
   ],
   "source": [
    "properties_validation_words"
   ]
  },
  {
   "cell_type": "code",
   "execution_count": 103,
   "id": "1f8116c6-c997-4f01-9e60-ea39ec362313",
   "metadata": {},
   "outputs": [],
   "source": [
    "# properties_validation_words.to_csv('validation_words.csv', index=False)"
   ]
  },
  {
   "cell_type": "code",
   "execution_count": 88,
   "id": "e457b2bd-06c3-4662-9767-48c94474f1d0",
   "metadata": {},
   "outputs": [
    {
     "data": {
      "image/png": "[encoded data removed]",
      "text/plain": [
       "<Figure size 432x288 with 1 Axes>"
      ]
     },
     "metadata": {
      "needs_background": "light"
     },
     "output_type": "display_data"
    }
   ],
   "source": [
    "plt.hist(properties_known_words['length'],histtype='step', bins=np.arange(4, 21, 1), density=True)\n",
    "plt.hist(properties_validation_words['length'],histtype='step', bins=np.arange(4, 21, 1), density=True)\n",
    "plt.show()"
   ]
  },
  {
   "cell_type": "code",
   "execution_count": 93,
   "id": "b236c7e9-ca60-4d6c-93b2-249dc7cad2fa",
   "metadata": {},
   "outputs": [],
   "source": [
    "known_first_stats = [len(properties_known_words[properties_known_words['first_letter'] == chr(i)]) for i in range(ord('a'), ord('z') + 1) ]\n",
    "validation_first_stats = [len(properties_validation_words[properties_validation_words['first_letter'] == chr(i)]) for i in range(ord('a'), ord('z') + 1) ]"
   ]
  },
  {
   "cell_type": "code",
   "execution_count": 97,
   "id": "62223aef-7ba7-4331-a80a-a49c882beac4",
   "metadata": {},
   "outputs": [
    {
     "data": {
      "image/png": "[encoded data removed]",
      "text/plain": [
       "<Figure size 432x288 with 1 Axes>"
      ]
     },
     "metadata": {
      "needs_background": "light"
     },
     "output_type": "display_data"
    }
   ],
   "source": [
    "plt.plot(np.arange(ord('a'), ord('z')+1, 1), np.array(known_first_stats) / len(properties_known_words))\n",
    "plt.plot(np.arange(ord('a'), ord('z')+1, 1), np.array(validation_first_stats) / len(properties_validation_words))\n",
    "plt.show()"
   ]
  },
  {
   "cell_type": "code",
   "execution_count": 98,
   "id": "390a4dd7-129a-4855-829b-8739240879da",
   "metadata": {},
   "outputs": [],
   "source": [
    "known_last_stats = [len(properties_known_words[properties_known_words['last_letter'] == chr(i)]) for i in range(ord('a'), ord('z') + 1) ]\n",
    "validation_last_stats = [len(properties_validation_words[properties_validation_words['last_letter'] == chr(i)]) for i in range(ord('a'), ord('z') + 1) ]"
   ]
  },
  {
   "cell_type": "code",
   "execution_count": 99,
   "id": "0a88c1e3-401d-4d70-943f-55104b5fb018",
   "metadata": {},
   "outputs": [
    {
     "data": {
      "image/png": "[encoded data removed]",
      "text/plain": [
       "<Figure size 432x288 with 1 Axes>"
      ]
     },
     "metadata": {
      "needs_background": "light"
     },
     "output_type": "display_data"
    }
   ],
   "source": [
    "plt.plot(np.arange(ord('a'), ord('z')+1, 1), np.array(known_last_stats) / len(properties_known_words))\n",
    "plt.plot(np.arange(ord('a'), ord('z')+1, 1), np.array(validation_last_stats) / len(properties_validation_words))\n",
    "plt.show()"
   ]
  },
  {
   "cell_type": "code",
   "execution_count": null,
   "id": "25facbab-6b49-4932-9707-26b5c17f8f6a",
   "metadata": {},
   "outputs": [],
   "source": []
  }
 ],
 "metadata": {
  "kernelspec": {
   "display_name": "Python 3 (ipykernel)",
   "language": "python",
   "name": "python3"
  },
  "language_info": {
   "codemirror_mode": {
    "name": "ipython",
    "version": 3
   },
   "file_extension": ".py",
   "mimetype": "text/x-python",
   "name": "python",
   "nbconvert_exporter": "python",
   "pygments_lexer": "ipython3",
   "version": "3.8.10"
  }
 },
 "nbformat": 4,
 "nbformat_minor": 5
}
